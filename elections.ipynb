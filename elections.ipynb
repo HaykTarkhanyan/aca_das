{
 "cells": [
  {
   "cell_type": "code",
   "execution_count": 2,
   "metadata": {},
   "outputs": [],
   "source": [
    "import numpy as np \n",
    "import pandas as pd\n",
    "import plotly.express as px"
   ]
  },
  {
   "cell_type": "code",
   "execution_count": 3,
   "metadata": {},
   "outputs": [
    {
     "name": "stderr",
     "output_type": "stream",
     "text": [
      "C:\\Users\\hayk_\\AppData\\Local\\Temp\\ipykernel_20632\\1092559478.py:1: DtypeWarning: Columns (6) have mixed types. Specify dtype option on import or set low_memory=False.\n",
      "  df = pd.read_csv(\"elections.csv\")\n"
     ]
    }
   ],
   "source": [
    "df = pd.read_csv(\"elections.csv\")"
   ]
  },
  {
   "cell_type": "code",
   "execution_count": 24,
   "metadata": {},
   "outputs": [
    {
     "name": "stderr",
     "output_type": "stream",
     "text": [
      "C:\\Users\\hayk_\\AppData\\Local\\Temp\\ipykernel_20632\\3538451597.py:11: UserWarning: Parsing dates in %d/%m/%Y format when dayfirst=False (the default) was specified. Pass `dayfirst=True` or specify a format to silence this warning.\n",
      "  df_poqr[\"taretiv\"] = pd.to_datetime(df_poqr[\"or_amis_tari\"])\n",
      "C:\\Users\\hayk_\\AppData\\Local\\Temp\\ipykernel_20632\\3538451597.py:11: SettingWithCopyWarning: \n",
      "A value is trying to be set on a copy of a slice from a DataFrame.\n",
      "Try using .loc[row_indexer,col_indexer] = value instead\n",
      "\n",
      "See the caveats in the documentation: https://pandas.pydata.org/pandas-docs/stable/user_guide/indexing.html#returning-a-view-versus-a-copy\n",
      "  df_poqr[\"taretiv\"] = pd.to_datetime(df_poqr[\"or_amis_tari\"])\n"
     ]
    },
    {
     "data": {
      "text/html": [
       "<div>\n",
       "<style scoped>\n",
       "    .dataframe tbody tr th:only-of-type {\n",
       "        vertical-align: middle;\n",
       "    }\n",
       "\n",
       "    .dataframe tbody tr th {\n",
       "        vertical-align: top;\n",
       "    }\n",
       "\n",
       "    .dataframe thead th {\n",
       "        text-align: right;\n",
       "    }\n",
       "</style>\n",
       "<table border=\"1\" class=\"dataframe\">\n",
       "  <thead>\n",
       "    <tr style=\"text-align: right;\">\n",
       "      <th></th>\n",
       "      <th>azganun</th>\n",
       "      <th>anun</th>\n",
       "      <th>haeranun</th>\n",
       "      <th>or_amis_tari</th>\n",
       "      <th>marz</th>\n",
       "      <th>hamaenq</th>\n",
       "      <th>bnakavaer</th>\n",
       "      <th>hasce</th>\n",
       "      <th>taracq</th>\n",
       "      <th>texamas</th>\n",
       "      <th>tari</th>\n",
       "      <th>taretiv</th>\n",
       "    </tr>\n",
       "  </thead>\n",
       "  <tbody>\n",
       "    <tr>\n",
       "      <th>0</th>\n",
       "      <td>Հարությունյան</td>\n",
       "      <td>Կարեն</td>\n",
       "      <td>Շաքարի</td>\n",
       "      <td>14/11/1997</td>\n",
       "      <td>ԿՈՏԱՅՔ</td>\n",
       "      <td>ՆՈՐ ՀԱՃՆ</td>\n",
       "      <td>NaN</td>\n",
       "      <td>Չարենցի Փ.   31   1</td>\n",
       "      <td>28</td>\n",
       "      <td>28/01</td>\n",
       "      <td>1997</td>\n",
       "      <td>1997-11-14</td>\n",
       "    </tr>\n",
       "    <tr>\n",
       "      <th>1</th>\n",
       "      <td>Աղաջանյան</td>\n",
       "      <td>Կարինե</td>\n",
       "      <td>Ժորայի</td>\n",
       "      <td>14/08/1964</td>\n",
       "      <td>ԿՈՏԱՅՔ</td>\n",
       "      <td>ՆՈՐ ՀԱՃՆ</td>\n",
       "      <td>NaN</td>\n",
       "      <td>Չարենցի Փ.   31   1</td>\n",
       "      <td>28</td>\n",
       "      <td>28/01</td>\n",
       "      <td>1964</td>\n",
       "      <td>1964-08-14</td>\n",
       "    </tr>\n",
       "    <tr>\n",
       "      <th>2</th>\n",
       "      <td>Հարությունյան</td>\n",
       "      <td>Հարություն</td>\n",
       "      <td>Շաքարի</td>\n",
       "      <td>29/10/1986</td>\n",
       "      <td>ԿՈՏԱՅՔ</td>\n",
       "      <td>ՆՈՐ ՀԱՃՆ</td>\n",
       "      <td>NaN</td>\n",
       "      <td>Չարենցի Փ.   31   1</td>\n",
       "      <td>28</td>\n",
       "      <td>28/01</td>\n",
       "      <td>1986</td>\n",
       "      <td>1986-10-29</td>\n",
       "    </tr>\n",
       "    <tr>\n",
       "      <th>3</th>\n",
       "      <td>Ալեքսանյան</td>\n",
       "      <td>Համեստ</td>\n",
       "      <td>Արսենի</td>\n",
       "      <td>24/10/1954</td>\n",
       "      <td>ԿՈՏԱՅՔ</td>\n",
       "      <td>ՆՈՐ ՀԱՃՆ</td>\n",
       "      <td>NaN</td>\n",
       "      <td>Չարենցի Փ.   26   71</td>\n",
       "      <td>28</td>\n",
       "      <td>28/01</td>\n",
       "      <td>1954</td>\n",
       "      <td>1954-10-24</td>\n",
       "    </tr>\n",
       "    <tr>\n",
       "      <th>4</th>\n",
       "      <td>Հարությունյան</td>\n",
       "      <td>Շաքար</td>\n",
       "      <td>Արտաշի</td>\n",
       "      <td>01/01/1959</td>\n",
       "      <td>ԿՈՏԱՅՔ</td>\n",
       "      <td>ՆՈՐ ՀԱՃՆ</td>\n",
       "      <td>NaN</td>\n",
       "      <td>Չարենցի Փ.   31   1</td>\n",
       "      <td>28</td>\n",
       "      <td>28/01</td>\n",
       "      <td>1959</td>\n",
       "      <td>1959-01-01</td>\n",
       "    </tr>\n",
       "  </tbody>\n",
       "</table>\n",
       "</div>"
      ],
      "text/plain": [
       "         azganun        anun haeranun or_amis_tari    marz   hamaenq  \\\n",
       "0  Հարությունյան       Կարեն   Շաքարի   14/11/1997  ԿՈՏԱՅՔ  ՆՈՐ ՀԱՃՆ   \n",
       "1      Աղաջանյան      Կարինե   Ժորայի   14/08/1964  ԿՈՏԱՅՔ  ՆՈՐ ՀԱՃՆ   \n",
       "2  Հարությունյան  Հարություն   Շաքարի   29/10/1986  ԿՈՏԱՅՔ  ՆՈՐ ՀԱՃՆ   \n",
       "3     Ալեքսանյան      Համեստ   Արսենի   24/10/1954  ԿՈՏԱՅՔ  ՆՈՐ ՀԱՃՆ   \n",
       "4  Հարությունյան       Շաքար   Արտաշի   01/01/1959  ԿՈՏԱՅՔ  ՆՈՐ ՀԱՃՆ   \n",
       "\n",
       "  bnakavaer                 hasce  taracq texamas  tari    taretiv  \n",
       "0       NaN   Չարենցի Փ.   31   1      28   28/01  1997 1997-11-14  \n",
       "1       NaN   Չարենցի Փ.   31   1      28   28/01  1964 1964-08-14  \n",
       "2       NaN   Չարենցի Փ.   31   1      28   28/01  1986 1986-10-29  \n",
       "3       NaN  Չարենցի Փ.   26   71      28   28/01  1954 1954-10-24  \n",
       "4       NaN   Չարենցի Փ.   31   1      28   28/01  1959 1959-01-01  "
      ]
     },
     "execution_count": 24,
     "metadata": {},
     "output_type": "execute_result"
    }
   ],
   "source": [
    "df\n",
    "# arandznacnel 87 - 94 taretvery\n",
    "# qaxaqneri bnakcutunner\n",
    "# qaxaqneri bnak yst tarva\n",
    "def get_tari_from_or_amis_tari(t):\n",
    "    return t[-4:]\n",
    "\n",
    "df[\"tari\"] = df[\"or_amis_tari\"].apply(get_tari_from_or_amis_tari).astype(int)\n",
    "\n",
    "df_poqr = df.head()\n",
    "df_poqr[\"taretiv\"] = pd.to_datetime(df_poqr[\"or_amis_tari\"])\n",
    "# df[df[\"tari\"] > 1987 1994)]\n",
    "# df.query(\"tari > 1987\")\n",
    "df_poqr"
   ]
  },
  {
   "cell_type": "code",
   "execution_count": 31,
   "metadata": {},
   "outputs": [
    {
     "data": {
      "text/plain": [
       "0     True\n",
       "1    False\n",
       "2     True\n",
       "3    False\n",
       "4    False\n",
       "Name: taretiv, dtype: bool"
      ]
     },
     "execution_count": 31,
     "metadata": {},
     "output_type": "execute_result"
    }
   ],
   "source": [
    "df_poqr[\"taretiv\"].dt.year > 1970"
   ]
  },
  {
   "cell_type": "code",
   "execution_count": null,
   "metadata": {},
   "outputs": [],
   "source": []
  }
 ],
 "metadata": {
  "kernelspec": {
   "display_name": "aca",
   "language": "python",
   "name": "python3"
  },
  "language_info": {
   "codemirror_mode": {
    "name": "ipython",
    "version": 3
   },
   "file_extension": ".py",
   "mimetype": "text/x-python",
   "name": "python",
   "nbconvert_exporter": "python",
   "pygments_lexer": "ipython3",
   "version": "3.12.8"
  }
 },
 "nbformat": 4,
 "nbformat_minor": 2
}
